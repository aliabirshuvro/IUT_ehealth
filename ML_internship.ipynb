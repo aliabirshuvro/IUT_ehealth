{
  "nbformat": 4,
  "nbformat_minor": 0,
  "metadata": {
    "colab": {
      "name": "ML internship.ipynb",
      "provenance": [],
      "collapsed_sections": [],
      "authorship_tag": "ABX9TyPBqQQki2Pcmig0//MjWE/t",
      "include_colab_link": true
    },
    "kernelspec": {
      "name": "python3",
      "display_name": "Python 3"
    },
    "language_info": {
      "name": "python"
    }
  },
  "cells": [
    {
      "cell_type": "markdown",
      "metadata": {
        "id": "view-in-github",
        "colab_type": "text"
      },
      "source": [
        "<a href=\"https://colab.research.google.com/github/aliabirshuvro/IUT_ehealth/blob/master/ML_internship.ipynb\" target=\"_parent\"><img src=\"https://colab.research.google.com/assets/colab-badge.svg\" alt=\"Open In Colab\"/></a>"
      ]
    },
    {
      "cell_type": "code",
      "metadata": {
        "id": "a8Rn0SQjYb8G"
      },
      "source": [
        "import numpy as np\n",
        "class NeuralNetwork:\n",
        "    def __init__(self, x, y):\n",
        "        self.input      = x\n",
        "        self.weights1   = np.random.rand(self.input.shape[1],4) \n",
        "        self.weights2   = np.random.rand(4,1)                 \n",
        "        self.y          = y\n",
        "        self.output     = np.zeros(self.y.shape)\n",
        "\n",
        "    def feedforward(self):\n",
        "        self.layer1 = relu(np.dot(self.input, self.weights1))\n",
        "        self.output = sigmoid(np.dot(self.layer1, self.weights2))\n",
        "\n",
        "    def backprop(self):\n",
        "        # application of the chain rule to find derivative of the loss function with respect to weights2 and weights1\n",
        "        d_weights2 = np.dot(self.layer1.T, (2*(self.y - self.output) * relu_derivative(self.output)))\n",
        "        d_weights1 = np.dot(self.input.T,  (np.dot(2*(self.y - self.output) * sigmoid_derivative(self.output), self.weights2.T) * sigmoid_derivative(self.layer1)))\n",
        "\n",
        "        # update the weights with the derivative (slope) of the loss function\n",
        "        self.weights1 += d_weights1\n",
        "        self.weights2 += d_weights2\n",
        "\n",
        "    def sigmoid(z):\n",
        "\t      return 1.0/(1.0+np.exp(-z))\n",
        "       \n",
        "    def relu(z):\n",
        "        res = z\n",
        "\t\t\t  for i in range(len(res)):\n",
        "\t\t\t\t    res[i] = max(0,res[i])\n",
        "\t\t\t  return res\n",
        "\n",
        "    def sigmoid_derivative(z):\n",
        "        sig = sigmoid(z)\n",
        "\t\t\t  return sig * (1 - sig)\n",
        "    \n",
        "    def relu_derivative(z):\n",
        "        res = z\n",
        "\t\t\t  for i in range(len(res)):\n",
        "\t\t\t\t    if res[i] > 0:\n",
        "\t\t\t\t\t      res[i] = 1\n",
        "\t\t\t\t    else:\n",
        "\t\t\t\t\t      res[i] = 0\n",
        "\t\t\t  return res"
      ],
      "execution_count": null,
      "outputs": []
    }
  ]
}